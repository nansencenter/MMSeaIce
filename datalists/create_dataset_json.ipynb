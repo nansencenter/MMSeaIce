{
 "cells": [
  {
   "cell_type": "code",
   "execution_count": 1,
   "metadata": {},
   "outputs": [],
   "source": [
    "import glob\n",
    "import json\n",
    "import os\n",
    "import random"
   ]
  },
  {
   "cell_type": "code",
   "execution_count": 6,
   "metadata": {},
   "outputs": [
    {
     "data": {
      "text/plain": [
       "289"
      ]
     },
     "execution_count": 6,
     "metadata": {},
     "output_type": "execute_result"
    }
   ],
   "source": [
    "#idir = '/Data/sat/downloads/sentinel1/AI4Arcticv2/ready_to_train'\n",
    "#prefix = 'rtr'\n",
    "\n",
    "#idir = '/Data/sat/downloads/sentinel1/AI4Arcticv2/new_to_train'\n",
    "#prefix ='new'\n",
    "\n",
    "#idir = '/Data/sat/downloads/sentinel1/AI4Arcticv2/ready_to_train2'\n",
    "#prefix = 'rtt2'\n",
    "\n",
    "#idir = '/Data/sat/downloads/sentinel1/AI4Arcticv2/new_to_train2'\n",
    "#prefix = 'ntt2'\n",
    "\n",
    "idir = '/Data/sat/downloads/sentinel1/AI4Arcticv2/new_to_train4'\n",
    "prefix = 'ntt4'\n",
    "\n",
    "idir = '/Data/sat/downloads/sentinel1/AI4Arcticv2/new_to_train5'\n",
    "prefix = 'ntt5'\n",
    "\n",
    "ifiles = sorted(glob.glob(f'{idir}/*npz'))\n",
    "ifiles = [os.path.basename(ifile) for ifile in ifiles]\n",
    "len(ifiles)"
   ]
  },
  {
   "cell_type": "code",
   "execution_count": 7,
   "metadata": {},
   "outputs": [
    {
     "name": "stdout",
     "output_type": "stream",
     "text": [
      "231 57\n",
      "Wrote ntt5_trn.json ntt5_val.json\n"
     ]
    }
   ],
   "source": [
    "random.shuffle(ifiles)\n",
    "trn_len = int(len(ifiles) * 0.8)\n",
    "val_len = int(len(ifiles) * 0.2)\n",
    "\n",
    "print(len(ifiles[:trn_len]), len(ifiles[trn_len:trn_len+val_len]))\n",
    "\n",
    "trn_file = f'{prefix}_trn.json'\n",
    "tst_file = f'{prefix}_val.json'\n",
    "with open(trn_file, 'wt') as f:\n",
    "    json.dump(ifiles[:trn_len], f, indent=4)\n",
    "with open(tst_file, 'wt') as f:\n",
    "    json.dump(ifiles[trn_len:trn_len+val_len], f, indent=4)\n",
    "\n",
    "print('Wrote', trn_file, tst_file)"
   ]
  },
  {
   "cell_type": "code",
   "execution_count": null,
   "metadata": {},
   "outputs": [],
   "source": []
  }
 ],
 "metadata": {
  "kernelspec": {
   "display_name": "ice2",
   "language": "python",
   "name": "python3"
  },
  "language_info": {
   "codemirror_mode": {
    "name": "ipython",
    "version": 3
   },
   "file_extension": ".py",
   "mimetype": "text/x-python",
   "name": "python",
   "nbconvert_exporter": "python",
   "pygments_lexer": "ipython3",
   "version": "3.12.7"
  }
 },
 "nbformat": 4,
 "nbformat_minor": 2
}
