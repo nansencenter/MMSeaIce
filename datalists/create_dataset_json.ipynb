{
 "cells": [
  {
   "cell_type": "code",
   "execution_count": 1,
   "metadata": {},
   "outputs": [],
   "source": [
    "import glob\n",
    "import json\n",
    "import os\n",
    "import random"
   ]
  },
  {
   "cell_type": "code",
   "execution_count": 2,
   "metadata": {},
   "outputs": [
    {
     "data": {
      "text/plain": [
       "(385,\n",
       " 'S1A_EW_GRDM_1SDH_20200101T060643_20200101T060747_030603_038186_AA44.nc.npz')"
      ]
     },
     "execution_count": 2,
     "metadata": {},
     "output_type": "execute_result"
    }
   ],
   "source": [
    "#idir = '/Data/sat/downloads/sentinel1/AI4Arcticv2/ready_to_train'\n",
    "#prefix = 'rtr'\n",
    "\n",
    "#idir = '/Data/sat/downloads/sentinel1/AI4Arcticv2/new_to_train'\n",
    "#prefix ='new'\n",
    "\n",
    "#idir = '/Data/sat/downloads/sentinel1/AI4Arcticv2/ready_to_train2'\n",
    "#prefix = 'rtt2'\n",
    "\n",
    "#idir = '/Data/sat/downloads/sentinel1/AI4Arcticv2/new_to_train2'\n",
    "#prefix = 'ntt2'\n",
    "\n",
    "#idir = '/Data/sat/downloads/sentinel1/AI4Arcticv2/new_to_train4'\n",
    "#prefix = 'ntt4'\n",
    "\n",
    "#idir = '/Data/sat/downloads/sentinel1/AI4Arcticv2/new_to_train5'\n",
    "#prefix = 'ntt5tmp'\n",
    "\n",
    "#idir = '/Data/sat/downloads/sentinel1/AI4Arcticv2/new_to_train5'\n",
    "#prefix = 'ntt5best'\n",
    "\n",
    "idir = '/Data/sat/downloads/sentinel1/AI4Arcticv2/new_to_train6'\n",
    "prefix = 'ntt6best'\n",
    "\n",
    "ifiles = sorted(glob.glob(f'{idir}/*npz'))\n",
    "ifiles = [os.path.basename(ifile) for ifile in ifiles]\n",
    "len(ifiles), ifiles[0]"
   ]
  },
  {
   "cell_type": "code",
   "execution_count": 3,
   "metadata": {},
   "outputs": [
    {
     "data": {
      "text/plain": [
       "320"
      ]
     },
     "execution_count": 3,
     "metadata": {},
     "output_type": "execute_result"
    }
   ],
   "source": [
    "bad_files = [\n",
    "    \"S1A_EW_GRDM_1SDH_20200121T181048_20200121T181152_030902_038C02_A7CD.nc.npz\",\n",
    "    \"S1B_EW_GRDM_1SDH_20200112T092845_20200112T092950_019782_02566E_18D1.nc.npz\",\n",
    "    \"S1B_EW_GRDM_1SDH_20200104T121530_20200104T121630_019667_0252C2_695F.nc.npz\",\n",
    "    \"S1A_EW_GRDM_1SDH_20200105T202335_20200105T202435_030670_0383E6_B682.nc.npz\",\n",
    "    \"S1A_EW_GRDM_1SDH_20200121T194948_20200121T195052_030903_038C0B_0410.nc.npz\",\n",
    "    \"S1A_EW_GRDM_1SDH_20200106T174812_20200106T174919_030683_03845A_1F0E.nc.npz\",\n",
    "    \"S1A_EW_GRDM_1SDH_20200113T024913_20200113T025017_030776_038788_BAFA.nc.npz\",\n",
    "    \"S1B_EW_GRDM_1SDH_20200123T183904_20200123T184008_019948_025BC4_40CF.nc.npz\",\n",
    "    \"S1B_EW_GRDM_1SDH_20200103T162956_20200103T163056_019655_02525C_180D.nc.npz\",\n",
    "    \"S1B_EW_GRDM_1SDH_20200116T171053_20200116T171153_019845_02586A_080E.nc.npz\",\n",
    "    \"S1B_EW_GRDM_1SDH_20200113T115055_20200113T115155_019798_0256EC_7CD2.nc.npz\",\n",
    "    \"S1B_EW_GRDM_1SDH_20200109T054727_20200109T054827_019736_025507_1727.nc.npz\",\n",
    "    \"S1B_EW_GRDM_1SDH_20200121T104222_20200121T104326_019914_025AB2_6759.nc.npz\",\n",
    "    \"S1A_EW_GRDM_1SDH_20200114T015241_20200114T015341_030790_03880D_5B6D.nc.npz\",\n",
    "    \"S1B_EW_GRDM_1SDH_20200104T135337_20200104T135437_019668_0252CA_B710.nc.npz\",\n",
    "    \"S1B_EW_GRDM_1SDH_20200103T032023_20200103T032123_019647_025212_C350.nc.npz\",\n",
    "    \"S1B_EW_GRDM_1SDH_20200116T170717_20200116T170754_019845_025869_E1AF.nc.npz\",\n",
    "    \"S1B_EW_GRDM_1SDH_20200118T034453_20200118T034553_019866_025922_5866.nc.npz\",\n",
    "    \"S1B_EW_GRDM_1SDH_20200116T170617_20200116T170717_019845_025869_97FA.nc.npz\",\n",
    "    \"S1B_EW_GRDM_1SDH_20200118T183123_20200118T183227_019875_025979_62E7.nc.npz\",\n",
    "    \"S1B_EW_GRDM_1SDH_20200116T135336_20200116T135436_019843_02585A_1E1C.nc.npz\",\n",
    "    \"S1A_EW_GRDM_1SDH_20200126T032728_20200126T032833_030966_038E42_DB11.nc.npz\",\n",
    "    \"S1B_EW_GRDM_1SDH_20200113T200452_20200113T200552_019803_02571A_06A1.nc.npz\",\n",
    "    \"S1B_EW_GRDM_1SDH_20200107T155713_20200107T155813_019713_025454_366E.nc.npz\",\n",
    "    \"S1B_EW_GRDM_1SDH_20200113T150908_20200113T151008_019800_025700_3B3A.nc.npz\",\n",
    "    \"S1B_EW_GRDM_1SDH_20200110T194121_20200110T194221_019759_0255C2_D2E5.nc.npz\",\n",
    "    \"S1B_EW_GRDM_1SDH_20200127T113124_20200127T113229_020002_025D71_AA34.nc.npz\",\n",
    "    \"S1B_EW_GRDM_1SDH_20200124T092845_20200124T092949_019957_025C04_BDC9.nc.npz\",\n",
    "    \"S1B_EW_GRDM_1SDH_20200107T110044_20200107T110144_019710_02543B_DD1D.nc.npz\",\n",
    "    \"S1B_EW_GRDM_1SDH_20200103T145048_20200103T145148_019654_025253_D9BF.nc.npz\",\n",
    "    \"S1B_EW_GRDM_1SDH_20200109T171701_20200109T171805_019743_02553B_1B2D.nc.npz\",\n",
    "    \"S1B_EW_GRDM_1SDH_20200113T133008_20200113T133108_019799_0256F6_52E1.nc.npz\",\n",
    "    \"S1B_EW_GRDM_1SDH_20200110T211622_20200110T211726_019760_0255CA_6322.nc.npz\",\n",
    "    \"S1B_EW_GRDM_1SDH_20200101T200453_20200101T200553_019628_02518B_510A.nc.npz\",\n",
    "    \"S1B_EW_GRDM_1SDH_20200119T141823_20200119T141923_019887_0259DB_CD62.nc.npz\",\n",
    "    \"S1B_EW_GRDM_1SDH_20200113T132908_20200113T133008_019799_0256F6_7837.nc.npz\",\n",
    "    \"S1B_EW_GRDM_1SDH_20200104T184920_20200104T185020_019671_0252E2_251F.nc.npz\",\n",
    "    \"S1A_EW_GRDM_1SDH_20200116T175552_20200116T175657_030829_03897D_015E.nc.npz\",\n",
    "    \"S1A_EW_GRDM_1SDH_20200106T192621_20200106T192721_030684_038468_839D.nc.npz\",\n",
    "    \"S1B_EW_GRDM_1SDH_20200115T113125_20200115T113229_019827_0257D4_E718.nc.npz\",\n",
    "    \"S1B_EW_GRDM_1SDH_20200128T170848_20200128T170953_020020_025E0B_CF4E.nc.npz\",\n",
    "    \"S1A_EW_GRDM_1SDH_20200117T053017_20200117T053122_030836_0389B4_E4D4.nc.npz\",\n",
    "    \"S1B_EW_GRDM_1SDH_20200109T023223_20200109T023323_019734_0254F8_3CF6.nc.npz\",\n",
    "    \"S1B_EW_GRDM_1SDH_20200112T160320_20200112T160425_019786_02568F_182A.nc.npz\",\n",
    "    \"S1B_EW_GRDM_1SDH_20200119T160013_20200119T160113_019888_0259E6_DD69.nc.npz\",\n",
    "    \"S1A_EW_GRDM_1SDH_20200111T044423_20200111T044528_030748_038686_3B75.nc.npz\",\n",
    "    \"S1B_EW_GRDM_1SDH_20200112T093050_20200112T093150_019782_02566E_CDD5.nc.npz\",\n",
    "    \"S1B_EW_GRDM_1SDH_20200106T084050_20200106T084150_019694_0253AC_F9A2.nc.npz\",\n",
    "    \"S1B_EW_GRDM_1SDH_20200116T121329_20200116T121429_019842_025852_0964.nc.npz\",\n",
    "    \"S1B_EW_GRDM_1SDH_20200113T182342_20200113T182442_019802_025711_F881.nc.npz\",\n",
    "    \"S1A_EW_GRDM_1SDH_20200111T143757_20200111T143857_030754_0386CB_6C7D.nc.npz\",\n",
    "    \"S1A_EW_GRDM_1SDH_20200117T053347_20200117T053451_030836_0389B5_8A0F.nc.npz\",\n",
    "    \"S1A_EW_GRDM_1SDH_20200107T051719_20200107T051823_030690_03848F_BD17.nc.npz\",\n",
    "    \"S1A_EW_GRDM_1SDH_20200105T121006_20200105T121106_030665_0383BB_16AA.nc.npz\",\n",
    "    \"S1A_EW_GRDM_1SDH_20200109T163203_20200109T163308_030726_0385D4_D758.nc.npz\",\n",
    "    \"S1B_EW_GRDM_1SDH_20200125T083134_20200125T083238_019971_025C72_4E8C.nc.npz\",\n",
    "    \"S1B_EW_GRDM_1SDH_20200101T164816_20200101T164903_019626_025181_568B.nc.npz\",\n",
    "    \"S1B_EW_GRDM_1SDH_20200106T214442_20200106T214542_019702_0253F6_5CAC.nc.npz\",\n",
    "    \"S1B_EW_GRDM_1SDH_20200110T144252_20200110T144352_019756_0255A9_C0B1.nc.npz\",\n",
    "    \"S1A_EW_GRDM_1SDH_20200129T053017_20200129T053121_031011_038FDB_6A38.nc.npz\",\n",
    "    \"S1A_EW_GRDM_1SDH_20200112T183528_20200112T183633_030771_038766_4701.nc.npz\",\n",
    "    \"S1A_EW_GRDM_1SDH_20200114T083013_20200114T083113_030794_038838_1EE2.nc.npz\",\n",
    "    \"S1A_EW_GRDM_1SDH_20200109T181048_20200109T181152_030727_0385DB_6B4B.nc.npz\",\n",
    "    \"S1B_EW_GRDM_1SDH_20200101T115156_20200101T115256_019623_025165_8835.nc.npz\",\n",
    "    \"S1B_EW_GRDM_1SDH_20200104T103609_20200104T103709_019666_0252B9_A1B2.nc.npz\",\n",
    "    \"S1B_EW_GRDM_1SDH_20200104T104113_20200104T104213_019666_0252BA_A435.nc.npz\",\n",
    "    \"S1B_EW_GRDM_1SDH_20200103T063730_20200103T063830_019649_025223_10D1.nc.npz\",\n",
    "    \"S1B_EW_GRDM_1SDH_20200115T032022_20200115T032122_019822_0257A5_D98F.nc.npz\",\n",
    "    \"S1B_EW_GRDM_1SDH_20200109T153846_20200109T153951_019742_025534_0711.nc.npz\",\n",
    "    \"S1B_EW_GRDM_1SDH_20200119T124305_20200119T124405_019886_0259D2_F058.nc.npz\",\n",
    "    \"S1B_EW_GRDM_1SDH_20200103T131249_20200103T131349_019653_02524B_7080.nc.npz\",\n",
    "    \"S1B_EW_GRDM_1SDH_20200123T170037_20200123T170142_019947_025BBB_E3E9.nc.npz\",\n",
    "    \"S1B_EW_GRDM_1SDH_20200110T113021_20200110T113121_019754_02559D_BDBF.nc.npz\",\n",
    "    \"S1B_EW_GRDM_1SDH_20200118T034553_20200118T034653_019866_025922_E6C4.nc.npz\",\n",
    "]\n",
    "\n",
    "ifiles = [ifile for ifile in ifiles if ifile not in bad_files]\n",
    "len(ifiles)"
   ]
  },
  {
   "cell_type": "code",
   "execution_count": 4,
   "metadata": {},
   "outputs": [
    {
     "name": "stdout",
     "output_type": "stream",
     "text": [
      "256 64\n",
      "Wrote ntt6best_trn.json ntt6best_val.json\n"
     ]
    }
   ],
   "source": [
    "random.shuffle(ifiles)\n",
    "trn_len = int(len(ifiles) * 0.8)\n",
    "val_len = int(len(ifiles) * 0.2)\n",
    "\n",
    "print(len(ifiles[:trn_len]), len(ifiles[trn_len:trn_len+val_len]))\n",
    "\n",
    "trn_file = f'{prefix}_trn.json'\n",
    "tst_file = f'{prefix}_val.json'\n",
    "with open(trn_file, 'wt') as f:\n",
    "    json.dump(ifiles[:trn_len], f, indent=4)\n",
    "with open(tst_file, 'wt') as f:\n",
    "    json.dump(ifiles[trn_len:trn_len+val_len], f, indent=4)\n",
    "\n",
    "print('Wrote', trn_file, tst_file)"
   ]
  },
  {
   "cell_type": "code",
   "execution_count": null,
   "metadata": {},
   "outputs": [],
   "source": []
  }
 ],
 "metadata": {
  "kernelspec": {
   "display_name": "ice2",
   "language": "python",
   "name": "python3"
  },
  "language_info": {
   "codemirror_mode": {
    "name": "ipython",
    "version": 3
   },
   "file_extension": ".py",
   "mimetype": "text/x-python",
   "name": "python",
   "nbconvert_exporter": "python",
   "pygments_lexer": "ipython3",
   "version": "3.12.7"
  }
 },
 "nbformat": 4,
 "nbformat_minor": 2
}
