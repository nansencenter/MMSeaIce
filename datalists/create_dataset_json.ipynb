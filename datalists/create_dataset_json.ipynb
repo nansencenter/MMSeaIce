{
 "cells": [
  {
   "cell_type": "code",
   "execution_count": 7,
   "metadata": {},
   "outputs": [],
   "source": [
    "import glob\n",
    "import json\n",
    "import random"
   ]
  },
  {
   "cell_type": "code",
   "execution_count": 8,
   "metadata": {},
   "outputs": [
    {
     "name": "stdout",
     "output_type": "stream",
     "text": [
      "512 33\n"
     ]
    }
   ],
   "source": [
    "with open('dataset.json', 'rt') as f:\n",
    "    ds = json.load(f)\n",
    "ifiles = sorted(glob.glob('/Data/sat/downloads/sentinel1/AI4Arcticv2/new_to_train/*nc'))\n",
    "idates = [f.split('/')[-1].split('_')[0] for f in ifiles]\n",
    "print(len(ds), len(ifiles))"
   ]
  },
  {
   "cell_type": "code",
   "execution_count": 13,
   "metadata": {},
   "outputs": [
    {
     "name": "stdout",
     "output_type": "stream",
     "text": [
      "33\n",
      "26 6\n"
     ]
    }
   ],
   "source": [
    "ds_exists = []\n",
    "for filename in sorted(ds):\n",
    "    for idate in idates:\n",
    "        if f'EW_GRDM_1SDH_{idate}' in filename:\n",
    "            ds_exists.append(filename)\n",
    "            break\n",
    "print(len(ds_exists))\n",
    "random.shuffle(ds_exists)\n",
    "trn_len = int(len(ds_exists) * 0.8)\n",
    "val_len = int(len(ds_exists) * 0.2)\n",
    "\n",
    "print(len(ds_exists[:trn_len]), len(ds_exists[trn_len:trn_len+val_len]))\n"
   ]
  },
  {
   "cell_type": "code",
   "execution_count": 14,
   "metadata": {},
   "outputs": [],
   "source": [
    "with open('new_trn.json', 'wt') as f:\n",
    "    json.dump(ds_exists[:trn_len], f, indent=4)\n",
    "with open('new_val.json', 'wt') as f:\n",
    "    json.dump(ds_exists[trn_len:trn_len+val_len], f, indent=4)"
   ]
  },
  {
   "cell_type": "code",
   "execution_count": null,
   "metadata": {},
   "outputs": [],
   "source": []
  }
 ],
 "metadata": {
  "kernelspec": {
   "display_name": "ice2",
   "language": "python",
   "name": "python3"
  },
  "language_info": {
   "codemirror_mode": {
    "name": "ipython",
    "version": 3
   },
   "file_extension": ".py",
   "mimetype": "text/x-python",
   "name": "python",
   "nbconvert_exporter": "python",
   "pygments_lexer": "ipython3",
   "version": "3.12.4"
  }
 },
 "nbformat": 4,
 "nbformat_minor": 2
}
