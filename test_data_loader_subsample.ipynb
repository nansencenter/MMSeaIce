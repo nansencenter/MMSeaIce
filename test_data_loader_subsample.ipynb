{
 "cells": [
  {
   "cell_type": "code",
   "execution_count": 1,
   "metadata": {},
   "outputs": [
    {
     "name": "stderr",
     "output_type": "stream",
     "text": [
      "/data1/antonk/miniconda/envs/mm_seaice/lib/python3.12/site-packages/mmcv/__init__.py:20: UserWarning: On January 1, 2023, MMCV will release v2.0.0, in which it will remove components related to the training process and add a data transformation module. In addition, it will rename the package names mmcv to mmcv-lite and mmcv-full to mmcv. See https://github.com/open-mmlab/mmcv/blob/master/docs/en/compatibility.md for more details.\n",
      "  warnings.warn(\n",
      "/data1/antonk/miniconda/envs/mm_seaice/lib/python3.12/site-packages/tqdm/auto.py:21: TqdmWarning: IProgress not found. Please update jupyter and ipywidgets. See https://ipywidgets.readthedocs.io/en/stable/user_install.html\n",
      "  from .autonotebook import tqdm as notebook_tqdm\n"
     ]
    }
   ],
   "source": [
    "import glob\n",
    "import os\n",
    "import json\n",
    "\n",
    "from icecream import ic\n",
    "import numpy as np\n",
    "from mmcv import Config\n",
    "import matplotlib.pyplot as plt\n",
    "import torch\n",
    "from tqdm import tqdm  # Progress bar\n",
    "\n",
    "from functions import create_train_validation_and_test_scene_list, get_model, get_loss\n",
    "from loaders import get_variable_options, AI4ArcticChallengeTestDataset, AI4ArcticChallengeDataset\n",
    "\n",
    "torch.set_num_threads(10)"
   ]
  },
  {
   "cell_type": "code",
   "execution_count": 2,
   "metadata": {},
   "outputs": [
    {
     "name": "stderr",
     "output_type": "stream",
     "text": [
      "ic| args_config: 'configs/sir/sir_01.py'\n"
     ]
    },
    {
     "name": "stdout",
     "output_type": "stream",
     "text": [
      "Options train_list and validate_list initialised\n"
     ]
    },
    {
     "data": {
      "text/plain": [
       "UNet_SIR_RFS_MSS(\n",
       "  (input_block): DoubleConv(\n",
       "    (double_conv): Sequential(\n",
       "      (0): Conv2d(6, 32, kernel_size=(3, 3), stride=(1, 1), padding=(1, 1), bias=False)\n",
       "      (1): BatchNorm2d(32, eps=1e-05, momentum=0.1, affine=True, track_running_stats=True)\n",
       "      (2): ReLU()\n",
       "      (3): Conv2d(32, 32, kernel_size=(3, 3), stride=(1, 1), padding=(1, 1), bias=False)\n",
       "      (4): BatchNorm2d(32, eps=1e-05, momentum=0.1, affine=True, track_running_stats=True)\n",
       "      (5): ReLU()\n",
       "    )\n",
       "  )\n",
       "  (contract_blocks): ModuleList(\n",
       "    (0): ContractingBlock(\n",
       "      (contract_block): MaxPool2d(kernel_size=(2, 2), stride=(2, 2), padding=0, dilation=1, ceil_mode=False)\n",
       "      (double_conv): DoubleConv(\n",
       "        (double_conv): Sequential(\n",
       "          (0): Conv2d(32, 32, kernel_size=(3, 3), stride=(1, 1), padding=(1, 1), bias=False)\n",
       "          (1): BatchNorm2d(32, eps=1e-05, momentum=0.1, affine=True, track_running_stats=True)\n",
       "          (2): ReLU()\n",
       "          (3): Conv2d(32, 32, kernel_size=(3, 3), stride=(1, 1), padding=(1, 1), bias=False)\n",
       "          (4): BatchNorm2d(32, eps=1e-05, momentum=0.1, affine=True, track_running_stats=True)\n",
       "          (5): ReLU()\n",
       "        )\n",
       "      )\n",
       "    )\n",
       "    (1): ContractingBlock(\n",
       "      (contract_block): MaxPool2d(kernel_size=(2, 2), stride=(2, 2), padding=0, dilation=1, ceil_mode=False)\n",
       "      (double_conv): DoubleConv(\n",
       "        (double_conv): Sequential(\n",
       "          (0): Conv2d(32, 64, kernel_size=(3, 3), stride=(1, 1), padding=(1, 1), bias=False)\n",
       "          (1): BatchNorm2d(64, eps=1e-05, momentum=0.1, affine=True, track_running_stats=True)\n",
       "          (2): ReLU()\n",
       "          (3): Conv2d(64, 64, kernel_size=(3, 3), stride=(1, 1), padding=(1, 1), bias=False)\n",
       "          (4): BatchNorm2d(64, eps=1e-05, momentum=0.1, affine=True, track_running_stats=True)\n",
       "          (5): ReLU()\n",
       "        )\n",
       "      )\n",
       "    )\n",
       "    (2): ContractingBlock(\n",
       "      (contract_block): MaxPool2d(kernel_size=(2, 2), stride=(2, 2), padding=0, dilation=1, ceil_mode=False)\n",
       "      (double_conv): DoubleConv(\n",
       "        (double_conv): Sequential(\n",
       "          (0): Conv2d(64, 64, kernel_size=(3, 3), stride=(1, 1), padding=(1, 1), bias=False)\n",
       "          (1): BatchNorm2d(64, eps=1e-05, momentum=0.1, affine=True, track_running_stats=True)\n",
       "          (2): ReLU()\n",
       "          (3): Conv2d(64, 64, kernel_size=(3, 3), stride=(1, 1), padding=(1, 1), bias=False)\n",
       "          (4): BatchNorm2d(64, eps=1e-05, momentum=0.1, affine=True, track_running_stats=True)\n",
       "          (5): ReLU()\n",
       "        )\n",
       "      )\n",
       "    )\n",
       "  )\n",
       "  (bridge): ContractingBlock(\n",
       "    (contract_block): MaxPool2d(kernel_size=(2, 2), stride=(2, 2), padding=0, dilation=1, ceil_mode=False)\n",
       "    (double_conv): DoubleConv(\n",
       "      (double_conv): Sequential(\n",
       "        (0): Conv2d(64, 64, kernel_size=(3, 3), stride=(1, 1), padding=(1, 1), bias=False)\n",
       "        (1): BatchNorm2d(64, eps=1e-05, momentum=0.1, affine=True, track_running_stats=True)\n",
       "        (2): ReLU()\n",
       "        (3): Conv2d(64, 64, kernel_size=(3, 3), stride=(1, 1), padding=(1, 1), bias=False)\n",
       "        (4): BatchNorm2d(64, eps=1e-05, momentum=0.1, affine=True, track_running_stats=True)\n",
       "        (5): ReLU()\n",
       "      )\n",
       "    )\n",
       "  )\n",
       "  (expand_blocks): ModuleList(\n",
       "    (0-1): 2 x ExpandingBlock(\n",
       "      (upsample): Upsample(scale_factor=2.0, mode='bilinear')\n",
       "      (double_conv): DoubleConv(\n",
       "        (double_conv): Sequential(\n",
       "          (0): Conv2d(128, 64, kernel_size=(3, 3), stride=(1, 1), padding=(1, 1), bias=False)\n",
       "          (1): BatchNorm2d(64, eps=1e-05, momentum=0.1, affine=True, track_running_stats=True)\n",
       "          (2): ReLU()\n",
       "          (3): Conv2d(64, 64, kernel_size=(3, 3), stride=(1, 1), padding=(1, 1), bias=False)\n",
       "          (4): BatchNorm2d(64, eps=1e-05, momentum=0.1, affine=True, track_running_stats=True)\n",
       "          (5): ReLU()\n",
       "        )\n",
       "      )\n",
       "    )\n",
       "    (2): ExpandingBlock(\n",
       "      (upsample): Upsample(scale_factor=2.0, mode='bilinear')\n",
       "      (double_conv): DoubleConv(\n",
       "        (double_conv): Sequential(\n",
       "          (0): Conv2d(96, 32, kernel_size=(3, 3), stride=(1, 1), padding=(1, 1), bias=False)\n",
       "          (1): BatchNorm2d(32, eps=1e-05, momentum=0.1, affine=True, track_running_stats=True)\n",
       "          (2): ReLU()\n",
       "          (3): Conv2d(32, 32, kernel_size=(3, 3), stride=(1, 1), padding=(1, 1), bias=False)\n",
       "          (4): BatchNorm2d(32, eps=1e-05, momentum=0.1, affine=True, track_running_stats=True)\n",
       "          (5): ReLU()\n",
       "        )\n",
       "      )\n",
       "    )\n",
       "    (3): ExpandingBlock(\n",
       "      (upsample): Upsample(scale_factor=2.0, mode='bilinear')\n",
       "      (double_conv): DoubleConv(\n",
       "        (double_conv): Sequential(\n",
       "          (0): Conv2d(64, 32, kernel_size=(3, 3), stride=(1, 1), padding=(1, 1), bias=False)\n",
       "          (1): BatchNorm2d(32, eps=1e-05, momentum=0.1, affine=True, track_running_stats=True)\n",
       "          (2): ReLU()\n",
       "          (3): Conv2d(32, 32, kernel_size=(3, 3), stride=(1, 1), padding=(1, 1), bias=False)\n",
       "          (4): BatchNorm2d(32, eps=1e-05, momentum=0.1, affine=True, track_running_stats=True)\n",
       "          (5): ReLU()\n",
       "        )\n",
       "      )\n",
       "    )\n",
       "  )\n",
       "  (output_sir_eqs0250): FeatureMap(\n",
       "    (feature_out): Conv2d(32, 2, kernel_size=(1, 1), stride=(1, 1))\n",
       "  )\n",
       "  (output_sir_eqs4000): FeatureMap(\n",
       "    (feature_out): Conv2d(32, 2, kernel_size=(1, 1), stride=(1, 1))\n",
       "  )\n",
       "  (output_rfs_eqs0250): FeatureMap(\n",
       "    (feature_out): Conv2d(32, 2, kernel_size=(1, 1), stride=(1, 1))\n",
       "  )\n",
       "  (output_rfs_eqs4000): FeatureMap(\n",
       "    (feature_out): Conv2d(32, 2, kernel_size=(1, 1), stride=(1, 1))\n",
       "  )\n",
       "  (output_mss_eqs0500): FeatureMap(\n",
       "    (feature_out): Conv2d(32, 2, kernel_size=(1, 1), stride=(1, 1))\n",
       "  )\n",
       "  (output_mss_eqs4000): FeatureMap(\n",
       "    (feature_out): Conv2d(32, 2, kernel_size=(1, 1), stride=(1, 1))\n",
       "  )\n",
       ")"
      ]
     },
     "execution_count": 2,
     "metadata": {},
     "output_type": "execute_result"
    }
   ],
   "source": [
    "args_config = 'configs/sir/sir_01.py'\n",
    "ic(args_config)\n",
    "cfg = Config.fromfile(args_config)\n",
    "train_options = cfg.train_options\n",
    "# Get options for variables, amsrenv grid, cropping and upsampling.\n",
    "train_options = get_variable_options(train_options)\n",
    "create_train_validation_and_test_scene_list(train_options)\n",
    "device = 'cpu'\n",
    "net = get_model(train_options, device)\n",
    "net\n"
   ]
  },
  {
   "cell_type": "code",
   "execution_count": 3,
   "metadata": {},
   "outputs": [
    {
     "name": "stderr",
     "output_type": "stream",
     "text": [
      "100%|██████████| 3/3 [00:06<00:00,  2.25s/it]\n"
     ]
    },
    {
     "name": "stdout",
     "output_type": "stream",
     "text": [
      "sir_eqs0250\n"
     ]
    },
    {
     "data": {
      "image/png": "[encoded data removed]",
      "text/plain": [
       "<Figure size 640x480 with 2 Axes>"
      ]
     },
     "metadata": {},
     "output_type": "display_data"
    }
   ],
   "source": [
    "dataset = AI4ArcticChallengeDataset(files=train_options['train_list'][:5], options=train_options, do_transform=True)\n",
    "x, y = dataset[0]\n",
    "for name in y:\n",
    "    sir1 = np.ma.masked_where(y[name][0] == 255, y[name][0])\n",
    "    print(name)\n",
    "    plt.imshow(sir1, interpolation='nearest')\n",
    "    plt.colorbar()\n",
    "    plt.show()\n",
    "    break"
   ]
  },
  {
   "cell_type": "code",
   "execution_count": 4,
   "metadata": {},
   "outputs": [
    {
     "name": "stderr",
     "output_type": "stream",
     "text": [
      "100%|██████████| 3/3 [00:05<00:00,  1.96s/it]"
     ]
    },
    {
     "name": "stdout",
     "output_type": "stream",
     "text": [
      "torch.Size([1, 6, 874, 1332]) (874, 1332) (874, 1332) torch.Size([874, 1332]) 20200113T114855_lrm_prep.nc (1748, 2664)\n"
     ]
    },
    {
     "name": "stderr",
     "output_type": "stream",
     "text": [
      "\n"
     ]
    }
   ],
   "source": [
    "dataset_val = AI4ArcticChallengeTestDataset(options=train_options, files=train_options['validate_list'][:3], mode='train')\n",
    "x, y, cfv_masks, tfv_mask, name, original_size = dataset_val[0]\n",
    "print(x.shape, y['sir_eqs0250'].shape, cfv_masks['sir_eqs0250'].shape, tfv_mask.shape, name, original_size)\n"
   ]
  },
  {
   "cell_type": "code",
   "execution_count": 5,
   "metadata": {},
   "outputs": [
    {
     "data": {
      "image/png": "[encoded data removed]",
      "text/plain": [
       "<Figure size 640x480 with 4 Axes>"
      ]
     },
     "metadata": {},
     "output_type": "display_data"
    }
   ],
   "source": [
    "sod = np.ma.masked_where(y['sir_eqs0250'] == 255, y['sir_eqs0250'])\n",
    "fig, axs = plt.subplots(1, 3)\n",
    "axs[0].imshow(x[0, 0])\n",
    "axs[1].imshow(x[0, 5])\n",
    "imsh2 = axs[2].imshow(sod, interpolation='nearest')\n",
    "plt.colorbar(imsh2, shrink=0.5)\n",
    "plt.show()"
   ]
  },
  {
   "cell_type": "code",
   "execution_count": 6,
   "metadata": {},
   "outputs": [],
   "source": [
    "dataloader_train = torch.utils.data.DataLoader(\n",
    "        dataset, batch_size=None, shuffle=True, num_workers=train_options['num_workers'], pin_memory=True)\n",
    "dataloader_val = torch.utils.data.DataLoader(\n",
    "    dataset_val, batch_size=None, num_workers=train_options['num_workers_val'], shuffle=False)\n",
    "loss_ce_functions = {chart: get_loss(train_options['chart_loss'][chart]['type'], chart=chart, **train_options['chart_loss'][chart])\n",
    "                         for chart in train_options['charts']}\n"
   ]
  },
  {
   "cell_type": "code",
   "execution_count": 7,
   "metadata": {},
   "outputs": [
    {
     "name": "stderr",
     "output_type": "stream",
     "text": [
      "  0%|\u001b[32m          \u001b[0m| 0/3 [00:02<?, ?it/s]"
     ]
    },
    {
     "name": "stdout",
     "output_type": "stream",
     "text": [
      "20200113T114855_lrm_prep.nc sir_eqs0250 tensor(0.7057)\n",
      "20200113T114855_lrm_prep.nc sir_eqs4000 tensor(0.6967)\n",
      "20200113T114855_lrm_prep.nc rfs_eqs0250 tensor(0.7152)\n",
      "20200113T114855_lrm_prep.nc rfs_eqs4000 tensor(0.8008)\n",
      "20200113T114855_lrm_prep.nc mss_eqs0500 tensor(0.7618)\n",
      "20200113T114855_lrm_prep.nc mss_eqs4000 tensor(0.6914)\n"
     ]
    },
    {
     "name": "stderr",
     "output_type": "stream",
     "text": [
      "\n"
     ]
    }
   ],
   "source": [
    "for i, (inf_x, inf_y, cfv_masks, tfv_mask, name, original_size) in enumerate(tqdm(iterable=dataloader_val,\n",
    "                                                                    total=len(train_options['validate_list']),\n",
    "                                                                    colour='green')):\n",
    "    with torch.no_grad():\n",
    "        inf_x = inf_x.to(device, non_blocking=True)\n",
    "        output = net(inf_x)\n",
    "\n",
    "        for chart, weight in zip(train_options['charts'], train_options['task_weights']):\n",
    "\n",
    "            val_cross_entropy_loss = weight * loss_ce_functions[chart](\n",
    "                output[chart][:,:,~cfv_masks[chart]],\n",
    "                inf_y[chart][~cfv_masks[chart]].unsqueeze(0).long().to(device)\n",
    "            )\n",
    "            print(name, chart, val_cross_entropy_loss)\n",
    "    break"
   ]
  },
  {
   "cell_type": "code",
   "execution_count": 8,
   "metadata": {},
   "outputs": [
    {
     "name": "stderr",
     "output_type": "stream",
     "text": [
      "  0%|\u001b[31m          \u001b[0m| 0/500 [00:02<?, ?it/s]"
     ]
    },
    {
     "name": "stdout",
     "output_type": "stream",
     "text": [
      "sir_eqs0250 tensor(0.6654, grad_fn=<NllLoss2DBackward0>)\n",
      "sir_eqs4000 tensor(0.6455, grad_fn=<NllLoss2DBackward0>)\n",
      "rfs_eqs0250 tensor(0.7887, grad_fn=<NllLoss2DBackward0>)\n",
      "rfs_eqs4000 tensor(0.8090, grad_fn=<NllLoss2DBackward0>)\n",
      "mss_eqs0500 tensor(0.6662, grad_fn=<NllLoss2DBackward0>)\n",
      "mss_eqs4000 tensor(0.7819, grad_fn=<NllLoss2DBackward0>)\n"
     ]
    },
    {
     "name": "stderr",
     "output_type": "stream",
     "text": [
      "\n"
     ]
    }
   ],
   "source": [
    "# Loops though batches in queue.\n",
    "for i, (batch_x, batch_y) in enumerate(tqdm(iterable=dataloader_train, total=train_options['epoch_len'],\n",
    "                                            colour='red')):\n",
    "    # torch.cuda.empty_cache()  # Empties the GPU cache freeing up memory.\n",
    "    train_loss_batch = torch.tensor([0.]).to(device)  # Reset from previous batch.\n",
    "    #edge_consistency_loss = torch.tensor([0.]).to(device)\n",
    "    cross_entropy_loss = torch.tensor([0.]).to(device)\n",
    "    # - Transfer to device.\n",
    "    batch_x = batch_x.to(device, non_blocking=True)\n",
    "\n",
    "    # - Forward pass.\n",
    "    output = net(batch_x)\n",
    "    # breakpoint()\n",
    "    # - Calculate loss.\n",
    "    for chart, weight in zip(train_options['charts'], train_options['task_weights']):\n",
    "\n",
    "        #if train_options['edge_consistency_loss'] != 0:\n",
    "        #    edge_consistency_loss = loss_water_edge_consistency(output)\n",
    "\n",
    "        if weight != 0:\n",
    "            _loss = loss_ce_functions[chart](output[chart], batch_y[chart].to(device))\n",
    "            print(chart, _loss)\n",
    "            #if torch.isnan(_loss):\n",
    "            #    import ipdb; ipdb.set_trace()\n",
    "            cross_entropy_loss += weight * _loss\n",
    "    break\n"
   ]
  },
  {
   "cell_type": "code",
   "execution_count": null,
   "metadata": {},
   "outputs": [],
   "source": [
    "net\n"
   ]
  },
  {
   "cell_type": "code",
   "execution_count": null,
   "metadata": {},
   "outputs": [],
   "source": [
    "args_config = 'configs/sic_mse/sic_mse_maud_01g.py'\n",
    "ic(args_config)\n",
    "cfg = Config.fromfile(args_config)\n",
    "train_options = cfg.train_options\n",
    "# Get options for variables, amsrenv grid, cropping and upsampling.\n",
    "train_options = get_variable_options(train_options)\n",
    "device = 'cpu'\n",
    "net = get_model(train_options, device)\n",
    "create_train_validation_and_test_scene_list(train_options)\n",
    "dataset = AI4ArcticChallengeDataset(files=train_options['train_list'][:5], options=train_options, do_transform=True)\n",
    "\n",
    "x, y = dataset[0]\n",
    "sod = np.ma.masked_where(y['SOD'][0] == 255, y['SOD'][0])\n",
    "sic = np.ma.masked_where(y['SIC'][0] == 255, y['SIC'][0])\n",
    "\n",
    "fig, axs = plt.subplots(1, 4)\n",
    "axs[0].imshow(x[0, 0])\n",
    "axs[1].imshow(x[0, 5])\n",
    "imsh2 = axs[2].imshow(sod)\n",
    "plt.colorbar(imsh2, ax=axs[2], shrink=0.5)\n",
    "imsh3 = axs[3].imshow(sic)\n",
    "plt.colorbar(imsh3, ax=axs[3], shrink=0.5)\n",
    "plt.show()\n",
    "\n",
    "dataset_val = AI4ArcticChallengeTestDataset(options=train_options, files=train_options['validate_list'][:3], mode='train')\n",
    "x, y, cfv_masks, tfv_mask, name, original_size = dataset_val[0]\n",
    "print(x.shape, y['SOD'].shape, cfv_masks['SOD'].shape, tfv_mask.shape, name, original_size)\n",
    "sod = np.ma.masked_where(y['SOD'] == 255, y['SOD'])\n",
    "fig, axs = plt.subplots(1, 3)\n",
    "axs[0].imshow(x[0, 0])\n",
    "axs[1].imshow(x[0, 5])\n",
    "imsh2 = axs[2].imshow(sod)\n",
    "plt.colorbar(imsh2, shrink=0.5)\n",
    "plt.show()"
   ]
  },
  {
   "cell_type": "code",
   "execution_count": null,
   "metadata": {},
   "outputs": [],
   "source": [
    "x, y = dataset[0]\n",
    "sod = np.ma.masked_where(y['SOD'][0] == 255, y['SOD'][0])\n",
    "sic = np.ma.masked_where(y['SIC'][0] == 255, y['SIC'][0])\n",
    "\n",
    "fig, axs = plt.subplots(1, 4)\n",
    "axs[0].imshow(x[0, 0])\n",
    "axs[1].imshow(x[0, 5])\n",
    "imsh2 = axs[2].imshow(sod)\n",
    "plt.colorbar(imsh2, ax=axs[2], shrink=0.2)\n",
    "imsh3 = axs[3].imshow(sic)\n",
    "plt.colorbar(imsh3, ax=axs[3], shrink=0.2)\n",
    "plt.show()\n"
   ]
  },
  {
   "cell_type": "code",
   "execution_count": null,
   "metadata": {},
   "outputs": [],
   "source": [
    "for x, y, cfv_masks, tfv_mask, name, original_size in dataset_val:\n",
    "    print(x.shape, y['SOD'].shape, cfv_masks['SOD'].shape, tfv_mask.shape, name, original_size)\n",
    "    sod = np.ma.masked_where(cfv_masks['SOD'], y['SOD'])\n",
    "    fig, axs = plt.subplots(1, 3)\n",
    "    axs[0].imshow(x[0, 0])\n",
    "    axs[1].imshow(x[0, 5])\n",
    "    imsh2 = axs[2].imshow(sod)\n",
    "    plt.colorbar(imsh2, shrink=0.5)\n",
    "    plt.show()"
   ]
  },
  {
   "cell_type": "code",
   "execution_count": null,
   "metadata": {},
   "outputs": [],
   "source": [
    "args_config = 'configs/sic_mse/sic_mse_maud_02c.py'\n",
    "ic(args_config)\n",
    "cfg = Config.fromfile(args_config)\n",
    "train_options = cfg.train_options\n",
    "# Get options for variables, amsrenv grid, cropping and upsampling.\n",
    "train_options = get_variable_options(train_options)\n",
    "device = 'cpu'\n",
    "net = get_model(train_options, device)\n",
    "create_train_validation_and_test_scene_list(train_options)"
   ]
  },
  {
   "cell_type": "code",
   "execution_count": null,
   "metadata": {},
   "outputs": [],
   "source": [
    "dataset = AI4ArcticChallengeDataset(files=train_options['train_list'][:5], options=train_options, do_transform=True)"
   ]
  },
  {
   "cell_type": "code",
   "execution_count": null,
   "metadata": {},
   "outputs": [],
   "source": [
    "x, y = dataset[0]\n",
    "fig, axs = plt.subplots(1, 3)\n",
    "axs[0].imshow(x[0, 0])\n",
    "axs[1].imshow(x[0, 5])\n",
    "axs[2].imshow(y['SIR02'][0], clim=[0, 7])\n",
    "plt.show()"
   ]
  },
  {
   "cell_type": "code",
   "execution_count": null,
   "metadata": {},
   "outputs": [],
   "source": [
    "dataset.options"
   ]
  },
  {
   "cell_type": "code",
   "execution_count": 9,
   "metadata": {},
   "outputs": [],
   "source": [
    "dataloader_train = torch.utils.data.DataLoader(\n",
    "        dataset, batch_size=None, shuffle=True, num_workers=train_options['num_workers'], pin_memory=True)"
   ]
  },
  {
   "cell_type": "code",
   "execution_count": null,
   "metadata": {},
   "outputs": [],
   "source": [
    "for x, y in dataloader_train:\n",
    "    break\n",
    "fig, axs = plt.subplots(1, 3)\n",
    "axs[0].imshow(x[0, 0])\n",
    "axs[1].imshow(x[0, 5])\n",
    "axs[2].imshow(y['SIR06'][0], clim=[0, 7])\n",
    "plt.show()"
   ]
  },
  {
   "cell_type": "code",
   "execution_count": null,
   "metadata": {},
   "outputs": [],
   "source": [
    "dataset_val = AI4ArcticChallengeTestDataset(options=train_options, files=train_options['validate_list'], mode='train')"
   ]
  },
  {
   "cell_type": "code",
   "execution_count": null,
   "metadata": {},
   "outputs": [],
   "source": [
    "x, y, cfv_masks, tfv_mask, name, original_size = dataset_val[4]\n",
    "print(x.shape, y['SIR00'].shape, cfv_masks['SIR00'].shape, tfv_mask.shape, name, original_size)\n",
    "fig, axs = plt.subplots(1, 3)\n",
    "axs[0].imshow(x[0, 0])\n",
    "axs[1].imshow(x[0, 5])\n",
    "axs[2].imshow(y['SIR00'])\n",
    "plt.show()"
   ]
  },
  {
   "cell_type": "code",
   "execution_count": 4,
   "metadata": {},
   "outputs": [],
   "source": [
    "dataloader_val = torch.utils.data.DataLoader(\n",
    "    dataset_val, batch_size=None, num_workers=train_options['num_workers_val'], shuffle=False)\n"
   ]
  },
  {
   "cell_type": "code",
   "execution_count": 5,
   "metadata": {},
   "outputs": [],
   "source": [
    "loss_ce_functions = {chart: get_loss(train_options['chart_loss'][chart]['type'], chart=chart, **train_options['chart_loss'][chart])\n",
    "                         for chart in train_options['charts']}"
   ]
  },
  {
   "cell_type": "code",
   "execution_count": null,
   "metadata": {},
   "outputs": [],
   "source": [
    "for i, (inf_x, inf_y, cfv_masks, tfv_mask, name, original_size) in enumerate(tqdm(iterable=dataloader_val,\n",
    "                                                                    total=len(train_options['validate_list']),\n",
    "                                                                    colour='green')):\n",
    "    with torch.no_grad():\n",
    "        inf_x = inf_x.to(device, non_blocking=True)\n",
    "        output = net(inf_x)\n",
    "\n",
    "        for chart, weight in zip(train_options['charts'], train_options['task_weights']):\n",
    "\n",
    "            val_cross_entropy_loss = weight * loss_ce_functions[chart](\n",
    "                output[chart][:,:,~cfv_masks[chart]],\n",
    "                inf_y[chart][~cfv_masks[chart]].unsqueeze(0).long().to(device)\n",
    "            )\n",
    "    print(name, val_cross_entropy_loss, np.unique(inf_y['SIR12']))\n"
   ]
  },
  {
   "cell_type": "code",
   "execution_count": null,
   "metadata": {},
   "outputs": [],
   "source": [
    "output[chart].shape, inf_y[chart].shape, inf_y[chart].unsqueeze(0).shape"
   ]
  },
  {
   "cell_type": "code",
   "execution_count": null,
   "metadata": {},
   "outputs": [],
   "source": [
    "loss_ce_functions[chart](output[chart], inf_y[chart].unsqueeze(0).long().to(device))"
   ]
  },
  {
   "cell_type": "code",
   "execution_count": null,
   "metadata": {},
   "outputs": [],
   "source": [
    "_output = output[chart][:,:,~cfv_masks[chart]]\n",
    "_target = inf_y[chart][~cfv_masks[chart]].unsqueeze(0).long()\n",
    "_output.shape, _target.shape"
   ]
  },
  {
   "cell_type": "code",
   "execution_count": null,
   "metadata": {},
   "outputs": [],
   "source": [
    "loss_ce_functions[chart](_output, _target.to(device))"
   ]
  },
  {
   "cell_type": "code",
   "execution_count": null,
   "metadata": {},
   "outputs": [],
   "source": [
    "help(loss_ce_functions[chart])"
   ]
  },
  {
   "cell_type": "code",
   "execution_count": null,
   "metadata": {},
   "outputs": [],
   "source": [
    "plt.imshow(cfv_masks['SIR12'])"
   ]
  }
 ],
 "metadata": {
  "kernelspec": {
   "display_name": "mm_seaice",
   "language": "python",
   "name": "python3"
  },
  "language_info": {
   "codemirror_mode": {
    "name": "ipython",
    "version": 3
   },
   "file_extension": ".py",
   "mimetype": "text/x-python",
   "name": "python",
   "nbconvert_exporter": "python",
   "pygments_lexer": "ipython3",
   "version": "3.12.5"
  }
 },
 "nbformat": 4,
 "nbformat_minor": 2
}
