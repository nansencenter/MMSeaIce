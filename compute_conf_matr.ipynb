{
 "cells": [
  {
   "cell_type": "code",
   "execution_count": 1,
   "metadata": {},
   "outputs": [
    {
     "name": "stderr",
     "output_type": "stream",
     "text": [
      "/data1/antonk/miniconda/envs/mm_seaice/lib/python3.12/site-packages/mmcv/__init__.py:20: UserWarning: On January 1, 2023, MMCV will release v2.0.0, in which it will remove components related to the training process and add a data transformation module. In addition, it will rename the package names mmcv to mmcv-lite and mmcv-full to mmcv. See https://github.com/open-mmlab/mmcv/blob/master/docs/en/compatibility.md for more details.\n",
      "  warnings.warn(\n",
      "/data1/antonk/miniconda/envs/mm_seaice/lib/python3.12/site-packages/tqdm/auto.py:21: TqdmWarning: IProgress not found. Please update jupyter and ipywidgets. See https://ipywidgets.readthedocs.io/en/stable/user_install.html\n",
      "  from .autonotebook import tqdm as notebook_tqdm\n"
     ]
    }
   ],
   "source": [
    "import glob\n",
    "import os\n",
    "import json\n",
    "\n",
    "from icecream import ic\n",
    "import numpy as np\n",
    "from mmcv import Config\n",
    "import matplotlib.pyplot as plt\n",
    "import torch\n",
    "from tqdm import tqdm  # Progress bar\n",
    "from sklearn.metrics import confusion_matrix\n",
    "import wandb\n",
    "from torchmetrics.functional import f1_score, accuracy, precision, recall\n",
    "\n",
    "from functions import create_train_validation_and_test_scene_list, get_model, get_loss, class_decider, compute_metrics, load_model\n",
    "from loaders import get_variable_options, AI4ArcticChallengeTestDataset, AI4ArcticChallengeDataset\n",
    "\n",
    "torch.set_num_threads(10)\n",
    "\n",
    "metric_funcs = [f1_score, accuracy, precision, recall]\n",
    "\n",
    "def load_model_cpu(net, checkpoint_path):\n",
    "    checkpoint = torch.load(checkpoint_path, map_location=torch.device('cpu'))\n",
    "    net.load_state_dict(checkpoint['model_state_dict'])\n",
    "    return net"
   ]
  },
  {
   "cell_type": "code",
   "execution_count": 2,
   "metadata": {},
   "outputs": [],
   "source": [
    "workdirs_dir = '/Data/sim/antonk/post74_models'\n",
    "\n",
    "workdirs2config = {\n",
    "    #'workdir_01a': ['01a', 'SOD'],\n",
    "    'workdir_01b': ['01b', 'SOD'],\n",
    "    'workdir_01c': ['01c', 'SOD'],\n",
    "    'workdir_01d': ['01d', 'SOD'],\n",
    "    'workdir_01e': ['01e', 'SOD'],\n",
    "    'workdir_01f': ['01f', 'SOD'],\n",
    "    'workdir_01g': ['01g', 'SOD'],\n",
    "    #'workdir_02a': ['02a', 'SIR'],\n",
    "    #'workdir_02b': ['02b', 'SIR'],\n",
    "    #'workdir_02c': ['02c', 'SIR'],\n",
    "    #'workdir_02c1': ['02c', 'SIR'],\n",
    "    #'workdir_02c2': ['02c2', 'SIR'],\n",
    "    #'workdir_02c3': ['02c3', 'SIR'],\n",
    "    #'workdir_02c4': ['02c4', 'SIR'],\n",
    "    #'workdir_02d': ['02d', 'SIR'],\n",
    "    #'workdir_02e': ['02e', 'SIR'],\n",
    "    #'workdir_02f': ['02f', 'SIR'],\n",
    "    #'workdir_02h': ['02h', 'SIR'],\n",
    "    #'workdir_02i': ['02i', 'SIR'],\n",
    "    #'workdir_02j': ['02j', 'SIR'],\n",
    "    #'workdir_02k': ['02k', 'SIR'],\n",
    "    #'workdir_02l': ['02l', 'SIR'],\n",
    "    #'workdir_02m': ['02m', 'SIR'],\n",
    "    #'workdir_02n': ['02n', 'SIR'],\n",
    "    #'workdir_02o': ['02o', 'SIR'],\n",
    "    #'workdir_04c1': ['04c', 'SIR'],\n",
    "    #'workdir_04c2': ['04c2', 'SIR'],\n",
    "    #'workdir_04o1': ['04o', 'SIR'],\n",
    "    #'workdir_04o2': ['04o2', 'SIR'],\n",
    "}\n",
    "workdirs = sorted(list(workdirs2config.keys()))\n"
   ]
  },
  {
   "cell_type": "code",
   "execution_count": 3,
   "metadata": {},
   "outputs": [],
   "source": [
    "api = wandb.Api(api_key='e0912e764420c974191dc9a23c71fed3d683b2b9')\n",
    "entity = 'korosov-nersc'\n",
    "api_projects = api.projects(f'{entity}')"
   ]
  },
  {
   "cell_type": "code",
   "execution_count": 4,
   "metadata": {},
   "outputs": [
    {
     "name": "stderr",
     "output_type": "stream",
     "text": [
      "WANDB: 0it [00:00, ?it/s]ic| args_config: 'configs/sic_mse/sic_mse_maud_01g.py'\n",
      "/tmp/ipykernel_64991/4267408837.py:23: FutureWarning: You are using `torch.load` with `weights_only=False` (the current default value), which uses the default pickle module implicitly. It is possible to construct malicious pickle data which will execute arbitrary code during unpickling (See https://github.com/pytorch/pytorch/blob/main/SECURITY.md#untrusted-models for more details). In a future release, the default value for `weights_only` will be flipped to `True`. This limits the functions that could be executed during unpickling. Arbitrary objects will no longer be allowed to be loaded via this mode unless they are explicitly allowlisted by the user via `torch.serialization.add_safe_globals`. We recommend you start setting `weights_only=True` for any use case where you don't have full control of the loaded file. Please open an issue on GitHub for any issues related to this experimental feature.\n",
      "  checkpoint = torch.load(checkpoint_path, map_location=torch.device('cpu'))\n"
     ]
    },
    {
     "name": "stdout",
     "output_type": "stream",
     "text": [
      "Options train_list and validate_list initialised\n"
     ]
    },
    {
     "name": "stderr",
     "output_type": "stream",
     "text": [
      "100%|██████████| 11/11 [00:12<00:00,  1.18s/it]\n",
      " 22%|\u001b[32m██▏       \u001b[0m| 11/51 [00:33<02:00,  3.02s/it]\n",
      "WANDB: 1it [00:52, 52.84s/it]ic| args_config: 'configs/sic_mse/sic_mse_maud_01f.py'\n",
      "/tmp/ipykernel_64991/4267408837.py:23: FutureWarning: You are using `torch.load` with `weights_only=False` (the current default value), which uses the default pickle module implicitly. It is possible to construct malicious pickle data which will execute arbitrary code during unpickling (See https://github.com/pytorch/pytorch/blob/main/SECURITY.md#untrusted-models for more details). In a future release, the default value for `weights_only` will be flipped to `True`. This limits the functions that could be executed during unpickling. Arbitrary objects will no longer be allowed to be loaded via this mode unless they are explicitly allowlisted by the user via `torch.serialization.add_safe_globals`. We recommend you start setting `weights_only=True` for any use case where you don't have full control of the loaded file. Please open an issue on GitHub for any issues related to this experimental feature.\n",
      "  checkpoint = torch.load(checkpoint_path, map_location=torch.device('cpu'))\n"
     ]
    },
    {
     "name": "stdout",
     "output_type": "stream",
     "text": [
      "Options train_list and validate_list initialised\n"
     ]
    },
    {
     "name": "stderr",
     "output_type": "stream",
     "text": [
      "100%|██████████| 11/11 [00:11<00:00,  1.02s/it]\n",
      " 22%|\u001b[32m██▏       \u001b[0m| 11/51 [00:32<01:57,  2.94s/it]\n",
      "WANDB: 4it [01:48, 18.88s/it]ic| args_config: 'configs/sic_mse/sic_mse_maud_01e.py'\n",
      "/tmp/ipykernel_64991/4267408837.py:23: FutureWarning: You are using `torch.load` with `weights_only=False` (the current default value), which uses the default pickle module implicitly. It is possible to construct malicious pickle data which will execute arbitrary code during unpickling (See https://github.com/pytorch/pytorch/blob/main/SECURITY.md#untrusted-models for more details). In a future release, the default value for `weights_only` will be flipped to `True`. This limits the functions that could be executed during unpickling. Arbitrary objects will no longer be allowed to be loaded via this mode unless they are explicitly allowlisted by the user via `torch.serialization.add_safe_globals`. We recommend you start setting `weights_only=True` for any use case where you don't have full control of the loaded file. Please open an issue on GitHub for any issues related to this experimental feature.\n",
      "  checkpoint = torch.load(checkpoint_path, map_location=torch.device('cpu'))\n"
     ]
    },
    {
     "name": "stdout",
     "output_type": "stream",
     "text": [
      "Options train_list and validate_list initialised\n"
     ]
    },
    {
     "name": "stderr",
     "output_type": "stream",
     "text": [
      "100%|██████████| 11/11 [00:15<00:00,  1.43s/it]\n",
      " 22%|\u001b[32m██▏       \u001b[0m| 11/51 [02:37<09:30, 14.27s/it]\n",
      "WANDB: 5it [05:03, 82.14s/it]ic| args_config: 'configs/sic_mse/sic_mse_maud_01d.py'\n",
      "/tmp/ipykernel_64991/4267408837.py:23: FutureWarning: You are using `torch.load` with `weights_only=False` (the current default value), which uses the default pickle module implicitly. It is possible to construct malicious pickle data which will execute arbitrary code during unpickling (See https://github.com/pytorch/pytorch/blob/main/SECURITY.md#untrusted-models for more details). In a future release, the default value for `weights_only` will be flipped to `True`. This limits the functions that could be executed during unpickling. Arbitrary objects will no longer be allowed to be loaded via this mode unless they are explicitly allowlisted by the user via `torch.serialization.add_safe_globals`. We recommend you start setting `weights_only=True` for any use case where you don't have full control of the loaded file. Please open an issue on GitHub for any issues related to this experimental feature.\n",
      "  checkpoint = torch.load(checkpoint_path, map_location=torch.device('cpu'))\n"
     ]
    },
    {
     "name": "stdout",
     "output_type": "stream",
     "text": [
      "Options train_list and validate_list initialised\n"
     ]
    },
    {
     "name": "stderr",
     "output_type": "stream",
     "text": [
      "100%|██████████| 11/11 [00:12<00:00,  1.14s/it]\n",
      " 22%|\u001b[32m██▏       \u001b[0m| 11/51 [02:36<09:28, 14.22s/it]\n",
      "WANDB: 21it [08:58,  6.77s/it]ic| args_config: 'configs/sic_mse/sic_mse_maud_01c.py'\n",
      "/tmp/ipykernel_64991/4267408837.py:23: FutureWarning: You are using `torch.load` with `weights_only=False` (the current default value), which uses the default pickle module implicitly. It is possible to construct malicious pickle data which will execute arbitrary code during unpickling (See https://github.com/pytorch/pytorch/blob/main/SECURITY.md#untrusted-models for more details). In a future release, the default value for `weights_only` will be flipped to `True`. This limits the functions that could be executed during unpickling. Arbitrary objects will no longer be allowed to be loaded via this mode unless they are explicitly allowlisted by the user via `torch.serialization.add_safe_globals`. We recommend you start setting `weights_only=True` for any use case where you don't have full control of the loaded file. Please open an issue on GitHub for any issues related to this experimental feature.\n",
      "  checkpoint = torch.load(checkpoint_path, map_location=torch.device('cpu'))\n"
     ]
    },
    {
     "name": "stdout",
     "output_type": "stream",
     "text": [
      "Options train_list and validate_list initialised\n"
     ]
    },
    {
     "name": "stderr",
     "output_type": "stream",
     "text": [
      "100%|██████████| 11/11 [00:12<00:00,  1.09s/it]\n",
      " 22%|\u001b[32m██▏       \u001b[0m| 11/51 [00:33<02:02,  3.07s/it]\n",
      "ic| args_config: 'configs/sic_mse/sic_mse_maud_01c.py'\n",
      "/tmp/ipykernel_64991/4267408837.py:23: FutureWarning: You are using `torch.load` with `weights_only=False` (the current default value), which uses the default pickle module implicitly. It is possible to construct malicious pickle data which will execute arbitrary code during unpickling (See https://github.com/pytorch/pytorch/blob/main/SECURITY.md#untrusted-models for more details). In a future release, the default value for `weights_only` will be flipped to `True`. This limits the functions that could be executed during unpickling. Arbitrary objects will no longer be allowed to be loaded via this mode unless they are explicitly allowlisted by the user via `torch.serialization.add_safe_globals`. We recommend you start setting `weights_only=True` for any use case where you don't have full control of the loaded file. Please open an issue on GitHub for any issues related to this experimental feature.\n",
      "  checkpoint = torch.load(checkpoint_path, map_location=torch.device('cpu'))\n"
     ]
    },
    {
     "name": "stdout",
     "output_type": "stream",
     "text": [
      "Options train_list and validate_list initialised\n"
     ]
    },
    {
     "name": "stderr",
     "output_type": "stream",
     "text": [
      "100%|██████████| 11/11 [00:10<00:00,  1.04it/s]\n",
      " 22%|\u001b[32m██▏       \u001b[0m| 11/51 [00:33<02:00,  3.02s/it]\n",
      "WANDB: 22it [10:43, 36.21s/it]ic| args_config: 'configs/sic_mse/sic_mse_maud_01b.py'\n",
      "/tmp/ipykernel_64991/4267408837.py:23: FutureWarning: You are using `torch.load` with `weights_only=False` (the current default value), which uses the default pickle module implicitly. It is possible to construct malicious pickle data which will execute arbitrary code during unpickling (See https://github.com/pytorch/pytorch/blob/main/SECURITY.md#untrusted-models for more details). In a future release, the default value for `weights_only` will be flipped to `True`. This limits the functions that could be executed during unpickling. Arbitrary objects will no longer be allowed to be loaded via this mode unless they are explicitly allowlisted by the user via `torch.serialization.add_safe_globals`. We recommend you start setting `weights_only=True` for any use case where you don't have full control of the loaded file. Please open an issue on GitHub for any issues related to this experimental feature.\n",
      "  checkpoint = torch.load(checkpoint_path, map_location=torch.device('cpu'))\n"
     ]
    },
    {
     "name": "stdout",
     "output_type": "stream",
     "text": [
      "Options train_list and validate_list initialised\n"
     ]
    },
    {
     "name": "stderr",
     "output_type": "stream",
     "text": [
      "100%|██████████| 16/16 [00:46<00:00,  2.91s/it]\n",
      " 21%|\u001b[32m██        \u001b[0m| 16/78 [00:31<02:01,  1.96s/it]\n",
      "WANDB: 24it [12:11, 36.32s/it]ic| args_config: 'configs/sic_mse/sic_mse_maud_01a.py'\n",
      "/tmp/ipykernel_64991/4267408837.py:23: FutureWarning: You are using `torch.load` with `weights_only=False` (the current default value), which uses the default pickle module implicitly. It is possible to construct malicious pickle data which will execute arbitrary code during unpickling (See https://github.com/pytorch/pytorch/blob/main/SECURITY.md#untrusted-models for more details). In a future release, the default value for `weights_only` will be flipped to `True`. This limits the functions that could be executed during unpickling. Arbitrary objects will no longer be allowed to be loaded via this mode unless they are explicitly allowlisted by the user via `torch.serialization.add_safe_globals`. We recommend you start setting `weights_only=True` for any use case where you don't have full control of the loaded file. Please open an issue on GitHub for any issues related to this experimental feature.\n",
      "  checkpoint = torch.load(checkpoint_path, map_location=torch.device('cpu'))\n",
      "WANDB: 24it [12:13, 30.55s/it]"
     ]
    },
    {
     "name": "stdout",
     "output_type": "stream",
     "text": [
      "FileNotFoundError /Data/sim/antonk/post74_models/workdir_01a/best_model_workdir_01a_00030.pth not found\n"
     ]
    },
    {
     "name": "stderr",
     "output_type": "stream",
     "text": [
      "\n"
     ]
    },
    {
     "ename": "FileNotFoundError",
     "evalue": "[Errno 2] No such file or directory: '/Data/sim/antonk/post74_models/workdir_01a/best_model_workdir_01a_00030.pth'",
     "output_type": "error",
     "traceback": [
      "\u001b[0;31m---------------------------------------------------------------------------\u001b[0m",
      "\u001b[0;31mFileNotFoundError\u001b[0m                         Traceback (most recent call last)",
      "Cell \u001b[0;32mIn[4], line 39\u001b[0m\n\u001b[1;32m     37\u001b[0m device \u001b[38;5;241m=\u001b[39m \u001b[38;5;124m'\u001b[39m\u001b[38;5;124mcpu\u001b[39m\u001b[38;5;124m'\u001b[39m\n\u001b[1;32m     38\u001b[0m net \u001b[38;5;241m=\u001b[39m get_model(train_options, device)\n\u001b[0;32m---> 39\u001b[0m net \u001b[38;5;241m=\u001b[39m \u001b[43mload_model_cpu\u001b[49m\u001b[43m(\u001b[49m\u001b[43mnet\u001b[49m\u001b[43m,\u001b[49m\u001b[43m \u001b[49m\u001b[43mpth_file\u001b[49m\u001b[43m)\u001b[49m\n\u001b[1;32m     40\u001b[0m create_train_validation_and_test_scene_list(train_options)\n\u001b[1;32m     41\u001b[0m loss_ce_functions \u001b[38;5;241m=\u001b[39m {chart: get_loss(train_options[\u001b[38;5;124m'\u001b[39m\u001b[38;5;124mchart_loss\u001b[39m\u001b[38;5;124m'\u001b[39m][chart][\u001b[38;5;124m'\u001b[39m\u001b[38;5;124mtype\u001b[39m\u001b[38;5;124m'\u001b[39m], chart\u001b[38;5;241m=\u001b[39mchart, \u001b[38;5;241m*\u001b[39m\u001b[38;5;241m*\u001b[39mtrain_options[\u001b[38;5;124m'\u001b[39m\u001b[38;5;124mchart_loss\u001b[39m\u001b[38;5;124m'\u001b[39m][chart])\n\u001b[1;32m     42\u001b[0m                         \u001b[38;5;28;01mfor\u001b[39;00m chart \u001b[38;5;129;01min\u001b[39;00m train_options[\u001b[38;5;124m'\u001b[39m\u001b[38;5;124mcharts\u001b[39m\u001b[38;5;124m'\u001b[39m]}\n",
      "Cell \u001b[0;32mIn[1], line 23\u001b[0m, in \u001b[0;36mload_model_cpu\u001b[0;34m(net, checkpoint_path)\u001b[0m\n\u001b[1;32m     22\u001b[0m \u001b[38;5;28;01mdef\u001b[39;00m \u001b[38;5;21mload_model_cpu\u001b[39m(net, checkpoint_path):\n\u001b[0;32m---> 23\u001b[0m     checkpoint \u001b[38;5;241m=\u001b[39m \u001b[43mtorch\u001b[49m\u001b[38;5;241;43m.\u001b[39;49m\u001b[43mload\u001b[49m\u001b[43m(\u001b[49m\u001b[43mcheckpoint_path\u001b[49m\u001b[43m,\u001b[49m\u001b[43m \u001b[49m\u001b[43mmap_location\u001b[49m\u001b[38;5;241;43m=\u001b[39;49m\u001b[43mtorch\u001b[49m\u001b[38;5;241;43m.\u001b[39;49m\u001b[43mdevice\u001b[49m\u001b[43m(\u001b[49m\u001b[38;5;124;43m'\u001b[39;49m\u001b[38;5;124;43mcpu\u001b[39;49m\u001b[38;5;124;43m'\u001b[39;49m\u001b[43m)\u001b[49m\u001b[43m)\u001b[49m\n\u001b[1;32m     24\u001b[0m     net\u001b[38;5;241m.\u001b[39mload_state_dict(checkpoint[\u001b[38;5;124m'\u001b[39m\u001b[38;5;124mmodel_state_dict\u001b[39m\u001b[38;5;124m'\u001b[39m])\n\u001b[1;32m     25\u001b[0m     \u001b[38;5;28;01mreturn\u001b[39;00m net\n",
      "File \u001b[0;32m/data1/antonk/miniconda/envs/mm_seaice/lib/python3.12/site-packages/torch/serialization.py:1065\u001b[0m, in \u001b[0;36mload\u001b[0;34m(f, map_location, pickle_module, weights_only, mmap, **pickle_load_args)\u001b[0m\n\u001b[1;32m   1062\u001b[0m \u001b[38;5;28;01mif\u001b[39;00m \u001b[38;5;124m'\u001b[39m\u001b[38;5;124mencoding\u001b[39m\u001b[38;5;124m'\u001b[39m \u001b[38;5;129;01mnot\u001b[39;00m \u001b[38;5;129;01min\u001b[39;00m pickle_load_args\u001b[38;5;241m.\u001b[39mkeys():\n\u001b[1;32m   1063\u001b[0m     pickle_load_args[\u001b[38;5;124m'\u001b[39m\u001b[38;5;124mencoding\u001b[39m\u001b[38;5;124m'\u001b[39m] \u001b[38;5;241m=\u001b[39m \u001b[38;5;124m'\u001b[39m\u001b[38;5;124mutf-8\u001b[39m\u001b[38;5;124m'\u001b[39m\n\u001b[0;32m-> 1065\u001b[0m \u001b[38;5;28;01mwith\u001b[39;00m \u001b[43m_open_file_like\u001b[49m\u001b[43m(\u001b[49m\u001b[43mf\u001b[49m\u001b[43m,\u001b[49m\u001b[43m \u001b[49m\u001b[38;5;124;43m'\u001b[39;49m\u001b[38;5;124;43mrb\u001b[39;49m\u001b[38;5;124;43m'\u001b[39;49m\u001b[43m)\u001b[49m \u001b[38;5;28;01mas\u001b[39;00m opened_file:\n\u001b[1;32m   1066\u001b[0m     \u001b[38;5;28;01mif\u001b[39;00m _is_zipfile(opened_file):\n\u001b[1;32m   1067\u001b[0m         \u001b[38;5;66;03m# The zipfile reader is going to advance the current file position.\u001b[39;00m\n\u001b[1;32m   1068\u001b[0m         \u001b[38;5;66;03m# If we want to actually tail call to torch.jit.load, we need to\u001b[39;00m\n\u001b[1;32m   1069\u001b[0m         \u001b[38;5;66;03m# reset back to the original position.\u001b[39;00m\n\u001b[1;32m   1070\u001b[0m         orig_position \u001b[38;5;241m=\u001b[39m opened_file\u001b[38;5;241m.\u001b[39mtell()\n",
      "File \u001b[0;32m/data1/antonk/miniconda/envs/mm_seaice/lib/python3.12/site-packages/torch/serialization.py:468\u001b[0m, in \u001b[0;36m_open_file_like\u001b[0;34m(name_or_buffer, mode)\u001b[0m\n\u001b[1;32m    466\u001b[0m \u001b[38;5;28;01mdef\u001b[39;00m \u001b[38;5;21m_open_file_like\u001b[39m(name_or_buffer, mode):\n\u001b[1;32m    467\u001b[0m     \u001b[38;5;28;01mif\u001b[39;00m _is_path(name_or_buffer):\n\u001b[0;32m--> 468\u001b[0m         \u001b[38;5;28;01mreturn\u001b[39;00m \u001b[43m_open_file\u001b[49m\u001b[43m(\u001b[49m\u001b[43mname_or_buffer\u001b[49m\u001b[43m,\u001b[49m\u001b[43m \u001b[49m\u001b[43mmode\u001b[49m\u001b[43m)\u001b[49m\n\u001b[1;32m    469\u001b[0m     \u001b[38;5;28;01melse\u001b[39;00m:\n\u001b[1;32m    470\u001b[0m         \u001b[38;5;28;01mif\u001b[39;00m \u001b[38;5;124m'\u001b[39m\u001b[38;5;124mw\u001b[39m\u001b[38;5;124m'\u001b[39m \u001b[38;5;129;01min\u001b[39;00m mode:\n",
      "File \u001b[0;32m/data1/antonk/miniconda/envs/mm_seaice/lib/python3.12/site-packages/torch/serialization.py:449\u001b[0m, in \u001b[0;36m_open_file.__init__\u001b[0;34m(self, name, mode)\u001b[0m\n\u001b[1;32m    448\u001b[0m \u001b[38;5;28;01mdef\u001b[39;00m \u001b[38;5;21m__init__\u001b[39m(\u001b[38;5;28mself\u001b[39m, name, mode):\n\u001b[0;32m--> 449\u001b[0m     \u001b[38;5;28msuper\u001b[39m()\u001b[38;5;241m.\u001b[39m\u001b[38;5;21m__init__\u001b[39m(\u001b[38;5;28;43mopen\u001b[39;49m\u001b[43m(\u001b[49m\u001b[43mname\u001b[49m\u001b[43m,\u001b[49m\u001b[43m \u001b[49m\u001b[43mmode\u001b[49m\u001b[43m)\u001b[49m)\n",
      "\u001b[0;31mFileNotFoundError\u001b[0m: [Errno 2] No such file or directory: '/Data/sim/antonk/post74_models/workdir_01a/best_model_workdir_01a_00030.pth'"
     ]
    }
   ],
   "source": [
    "for project in tqdm(api_projects, total=len(api_projects.objects), desc=\"WANDB\"):\n",
    "    project = project.name\n",
    "    runs = api.runs(f'{entity}/{project}')\n",
    "    for run in runs:\n",
    "        pth_file = None\n",
    "        for arg in run.metadata['args']:\n",
    "            workdir = None\n",
    "            if 'workdir' in arg:\n",
    "                workdir = arg\n",
    "                break\n",
    "        if workdir is not None and workdir in workdirs:\n",
    "            history = run.history()\n",
    "            if len(history) == 0:\n",
    "                continue\n",
    "            config_suffix = workdirs2config[workdir][0]\n",
    "            search_key = workdirs2config[workdir][1]\n",
    "\n",
    "            args_config = f'configs/sic_mse/sic_mse_maud_{config_suffix}.py'\n",
    "            for column in history.columns:\n",
    "                if search_key in column and 'f1_metric' in column:\n",
    "                    max_score_step = int(round(history['_step'][history[column].idxmax()]/10)*10)\n",
    "                    pth_file = f'{workdirs_dir}/{workdir}/best_model_{workdir}_00{max_score_step:03}.pth'\n",
    "                    if not os.path.exists(pth_file):\n",
    "                        max_score_step -= 10\n",
    "                        pth_file = f'{workdirs_dir}/{workdir}/best_model_{workdir}_00{max_score_step:03}.pth'\n",
    "                    if not os.path.exists(pth_file):\n",
    "                        print(f'FileNotFoundError {pth_file} not found')\n",
    "        if pth_file is None:\n",
    "            continue\n",
    "        # load data and compute conf matrix\n",
    "        ofile = 'conf_matrs_png/' + os.path.basename(pth_file).replace('.pth', '.png')\n",
    "        ic(args_config)\n",
    "        cfg = Config.fromfile(args_config)\n",
    "        train_options = cfg.train_options\n",
    "        # Get options for variables, amsrenv grid, cropping and upsampling.\n",
    "        train_options = get_variable_options(train_options)\n",
    "        device = 'cpu'\n",
    "        net = get_model(train_options, device)\n",
    "        net = load_model_cpu(net, pth_file)\n",
    "        create_train_validation_and_test_scene_list(train_options)\n",
    "        loss_ce_functions = {chart: get_loss(train_options['chart_loss'][chart]['type'], chart=chart, **train_options['chart_loss'][chart])\n",
    "                                for chart in train_options['charts']}\n",
    "        sir_name = train_options['charts'][0]\n",
    "        dataset_val = AI4ArcticChallengeTestDataset(options=train_options, files=train_options['validate_list'][::5], mode='train')\n",
    "        dataloader_val = torch.utils.data.DataLoader(\n",
    "            dataset_val, batch_size=None, num_workers=train_options['num_workers_val'], shuffle=False)\n",
    "        # - Stores the output and the reference pixels to calculate the scores after inference on all the scenes.\n",
    "        outputs_flat = {chart: torch.Tensor().to(device) for chart in train_options['charts']}\n",
    "        inf_ys_flat = {chart: torch.Tensor().to(device) for chart in train_options['charts']}\n",
    "        for i, (inf_x, inf_y, cfv_masks, tfv_mask, name, original_size) in enumerate(tqdm(iterable=dataloader_val,\n",
    "                                                                            total=len(train_options['validate_list']),\n",
    "                                                                            colour='green')):\n",
    "            with torch.no_grad():\n",
    "                inf_x = inf_x.to(device, non_blocking=True)\n",
    "                output = net(inf_x)\n",
    "            for chart in train_options['charts']:\n",
    "                output[chart] = class_decider(output[chart], train_options, chart)\n",
    "                outputs_flat[chart] = torch.cat((outputs_flat[chart], output[chart][~cfv_masks[chart]]))\n",
    "                #outputs_tfv_mask[chart] = torch.cat((outputs_tfv_mask[chart], output[chart][~tfv_mask]))\n",
    "                inf_ys_flat[chart] = torch.cat((inf_ys_flat[chart], inf_y[chart][~cfv_masks[chart]].to(device, non_blocking=True)))\n",
    "        cm = confusion_matrix(inf_ys_flat[sir_name], outputs_flat[sir_name])\n",
    "        metrics = [\n",
    "            metric_func(\n",
    "                target=inf_ys_flat[sir_name],\n",
    "                preds=outputs_flat[sir_name],\n",
    "                average='weighted',\n",
    "                task='multiclass',\n",
    "                num_classes=13).item()\n",
    "            for metric_func in metric_funcs\n",
    "            ]\n",
    "        title = ' '.join([f'{m:0.2}' for m in metrics])\n",
    "        plt.figure(figsize=(3, 3))\n",
    "        plt.imshow(cm, interpolation='nearest', cmap='Blues')\n",
    "        plt.colorbar(shrink=0.5)\n",
    "        plt.ylabel('Predicted')\n",
    "        plt.xlabel('True')\n",
    "        plt.title(title)\n",
    "        plt.tight_layout()\n",
    "        plt.savefig(ofile, pad_inches=0.1)\n",
    "        plt.close()\n"
   ]
  },
  {
   "cell_type": "code",
   "execution_count": 18,
   "metadata": {},
   "outputs": [],
   "source": []
  }
 ],
 "metadata": {
  "kernelspec": {
   "display_name": "mm_seaice",
   "language": "python",
   "name": "python3"
  },
  "language_info": {
   "codemirror_mode": {
    "name": "ipython",
    "version": 3
   },
   "file_extension": ".py",
   "mimetype": "text/x-python",
   "name": "python",
   "nbconvert_exporter": "python",
   "pygments_lexer": "ipython3",
   "version": "3.12.5"
  }
 },
 "nbformat": 4,
 "nbformat_minor": 2
}
