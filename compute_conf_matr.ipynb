{
 "cells": [
  {
   "cell_type": "code",
   "execution_count": 1,
   "metadata": {},
   "outputs": [
    {
     "name": "stderr",
     "output_type": "stream",
     "text": [
      "/data1/antonk/miniconda/envs/mm_seaice/lib/python3.12/site-packages/mmcv/__init__.py:20: UserWarning: On January 1, 2023, MMCV will release v2.0.0, in which it will remove components related to the training process and add a data transformation module. In addition, it will rename the package names mmcv to mmcv-lite and mmcv-full to mmcv. See https://github.com/open-mmlab/mmcv/blob/master/docs/en/compatibility.md for more details.\n",
      "  warnings.warn(\n",
      "/data1/antonk/miniconda/envs/mm_seaice/lib/python3.12/site-packages/tqdm/auto.py:21: TqdmWarning: IProgress not found. Please update jupyter and ipywidgets. See https://ipywidgets.readthedocs.io/en/stable/user_install.html\n",
      "  from .autonotebook import tqdm as notebook_tqdm\n"
     ]
    }
   ],
   "source": [
    "import glob\n",
    "import os\n",
    "import json\n",
    "\n",
    "from icecream import ic\n",
    "import numpy as np\n",
    "from mmcv import Config\n",
    "import matplotlib.pyplot as plt\n",
    "import torch\n",
    "from tqdm import tqdm  # Progress bar\n",
    "from sklearn.metrics import confusion_matrix\n",
    "import wandb\n",
    "\n",
    "from functions import create_train_validation_and_test_scene_list, get_model, get_loss, class_decider, compute_metrics, load_model\n",
    "from loaders import get_variable_options, AI4ArcticChallengeTestDataset, AI4ArcticChallengeDataset\n",
    "\n",
    "torch.set_num_threads(10)\n",
    "\n",
    "def load_model_cpu(net, checkpoint_path):\n",
    "    checkpoint = torch.load(checkpoint_path, map_location=torch.device('cpu'))\n",
    "    net.load_state_dict(checkpoint['model_state_dict'])\n",
    "    return net"
   ]
  },
  {
   "cell_type": "code",
   "execution_count": 2,
   "metadata": {},
   "outputs": [],
   "source": [
    "workdirs_dir = '/Data/sim/antonk/post74_models'\n",
    "workdirs2config = {\n",
    "    'workdir_01a': ['01a', 'SOD'],\n",
    "    'workdir_01b': ['01b', 'SOD'],\n",
    "    'workdir_01c': ['01c', 'SOD'],\n",
    "    'workdir_01d': ['01d', 'SOD'],\n",
    "    'workdir_01e': ['01e', 'SOD'],\n",
    "    'workdir_02a': ['02a', 'SIR'],\n",
    "    'workdir_02b': ['02b', 'SIR'],\n",
    "    'workdir_02c': ['02c', 'SIR'],\n",
    "    'workdir_02c1': ['02c', 'SIR'],\n",
    "    'workdir_02c2': ['02c2', 'SIR'],\n",
    "    'workdir_02c3': ['02c3', 'SIR'],\n",
    "    'workdir_02c4': ['02c4', 'SIR'],\n",
    "    'workdir_02d': ['02d', 'SIR'],\n",
    "    'workdir_02e': ['02e', 'SIR'],\n",
    "    'workdir_02f': ['02f', 'SIR'],\n",
    "    'workdir_02h': ['02h', 'SIR'],\n",
    "    'workdir_02i': ['02i', 'SIR'],\n",
    "    'workdir_02j': ['02j', 'SIR'],\n",
    "    'workdir_02k': ['02k', 'SIR'],\n",
    "    'workdir_02l': ['02l', 'SIR'],\n",
    "    'workdir_02m': ['02m', 'SIR'],\n",
    "    'workdir_02n': ['02n', 'SIR'],\n",
    "    'workdir_02o': ['02o', 'SIR'],\n",
    "    'workdir_04c1': ['04c', 'SIR'],\n",
    "    'workdir_04c2': ['04c2', 'SIR'],\n",
    "    'workdir_04o1': ['04o', 'SIR'],\n",
    "    'workdir_04o2': ['04o2', 'SIR'],\n",
    "}\n",
    "workdirs = sorted(list(workdirs2config.keys()))\n"
   ]
  },
  {
   "cell_type": "code",
   "execution_count": 10,
   "metadata": {},
   "outputs": [],
   "source": [
    "api = wandb.Api(api_key='e0912e764420c974191dc9a23c71fed3d683b2b9')\n",
    "entity = 'korosov-nersc'\n",
    "api_projects = api.projects(f'{entity}')"
   ]
  },
  {
   "cell_type": "code",
   "execution_count": 11,
   "metadata": {},
   "outputs": [
    {
     "name": "stderr",
     "output_type": "stream",
     "text": [
      "WANDB:   0%|          | 0/28 [00:00<?, ?it/s]ic| args_config: 'configs/sic_mse/sic_mse_maud_04o.py'\n",
      "/tmp/ipykernel_8621/2338800327.py:20: FutureWarning: You are using `torch.load` with `weights_only=False` (the current default value), which uses the default pickle module implicitly. It is possible to construct malicious pickle data which will execute arbitrary code during unpickling (See https://github.com/pytorch/pytorch/blob/main/SECURITY.md#untrusted-models for more details). In a future release, the default value for `weights_only` will be flipped to `True`. This limits the functions that could be executed during unpickling. Arbitrary objects will no longer be allowed to be loaded via this mode unless they are explicitly allowlisted by the user via `torch.serialization.add_safe_globals`. We recommend you start setting `weights_only=True` for any use case where you don't have full control of the loaded file. Please open an issue on GitHub for any issues related to this experimental feature.\n",
      "  checkpoint = torch.load(checkpoint_path, map_location=torch.device('cpu'))\n"
     ]
    },
    {
     "name": "stdout",
     "output_type": "stream",
     "text": [
      "Options train_list and validate_list initialised\n"
     ]
    },
    {
     "name": "stderr",
     "output_type": "stream",
     "text": [
      "100%|██████████| 8/8 [00:10<00:00,  1.31s/it]\n",
      " 21%|\u001b[32m██        \u001b[0m| 8/38 [01:15<04:41,  9.40s/it]\n",
      "ic| args_config: 'configs/sic_mse/sic_mse_maud_04o2.py'\n",
      "/tmp/ipykernel_8621/2338800327.py:20: FutureWarning: You are using `torch.load` with `weights_only=False` (the current default value), which uses the default pickle module implicitly. It is possible to construct malicious pickle data which will execute arbitrary code during unpickling (See https://github.com/pytorch/pytorch/blob/main/SECURITY.md#untrusted-models for more details). In a future release, the default value for `weights_only` will be flipped to `True`. This limits the functions that could be executed during unpickling. Arbitrary objects will no longer be allowed to be loaded via this mode unless they are explicitly allowlisted by the user via `torch.serialization.add_safe_globals`. We recommend you start setting `weights_only=True` for any use case where you don't have full control of the loaded file. Please open an issue on GitHub for any issues related to this experimental feature.\n",
      "  checkpoint = torch.load(checkpoint_path, map_location=torch.device('cpu'))\n"
     ]
    },
    {
     "name": "stdout",
     "output_type": "stream",
     "text": [
      "Options train_list and validate_list initialised\n"
     ]
    },
    {
     "name": "stderr",
     "output_type": "stream",
     "text": [
      "100%|██████████| 8/8 [00:14<00:00,  1.79s/it]\n",
      " 21%|\u001b[32m██        \u001b[0m| 8/38 [01:18<04:55,  9.84s/it]\n",
      "WANDB:  11%|█         | 3/28 [03:01<25:14, 60.58s/it]ic| args_config: 'configs/sic_mse/sic_mse_maud_04c.py'\n",
      "/tmp/ipykernel_8621/2338800327.py:20: FutureWarning: You are using `torch.load` with `weights_only=False` (the current default value), which uses the default pickle module implicitly. It is possible to construct malicious pickle data which will execute arbitrary code during unpickling (See https://github.com/pytorch/pytorch/blob/main/SECURITY.md#untrusted-models for more details). In a future release, the default value for `weights_only` will be flipped to `True`. This limits the functions that could be executed during unpickling. Arbitrary objects will no longer be allowed to be loaded via this mode unless they are explicitly allowlisted by the user via `torch.serialization.add_safe_globals`. We recommend you start setting `weights_only=True` for any use case where you don't have full control of the loaded file. Please open an issue on GitHub for any issues related to this experimental feature.\n",
      "  checkpoint = torch.load(checkpoint_path, map_location=torch.device('cpu'))\n"
     ]
    },
    {
     "name": "stdout",
     "output_type": "stream",
     "text": [
      "Options train_list and validate_list initialised\n"
     ]
    },
    {
     "name": "stderr",
     "output_type": "stream",
     "text": [
      "100%|██████████| 8/8 [00:09<00:00,  1.20s/it]\n"
     ]
    }
   ],
   "source": [
    "for project in tqdm(api_projects, total=len(api_projects.objects), desc=\"WANDB\"):\n",
    "    project = project.name\n",
    "    runs = api.runs(f'{entity}/{project}')\n",
    "    for run in runs:\n",
    "        pth_file = None\n",
    "        for arg in run.metadata['args']:\n",
    "            workdir = None\n",
    "            if 'workdir' in arg:\n",
    "                workdir = arg\n",
    "                break\n",
    "        if workdir is not None and workdir in workdirs:\n",
    "            history = run.history()\n",
    "            if len(history) == 0:\n",
    "                continue\n",
    "            config_suffix = workdirs2config[workdir][0]\n",
    "            search_key = workdirs2config[workdir][1]\n",
    "\n",
    "            args_config = f'configs/sic_mse/sic_mse_maud_{config_suffix}.py'\n",
    "            for column in history.columns:\n",
    "                if search_key in column and 'f1_metric' in column:\n",
    "                    max_score_step = int(round(history['_step'][history[column].idxmax()]/10)*10)\n",
    "                    pth_file = f'{workdirs_dir}/{workdir}/best_model_{workdir}_00{max_score_step:03}.pth'\n",
    "                    if not os.path.exists(pth_file):\n",
    "                        max_score_step -= 10\n",
    "                        pth_file = f'{workdirs_dir}/{workdir}/best_model_{workdir}_00{max_score_step:03}.pth'\n",
    "                    if not os.path.exists(pth_file):\n",
    "                        print(f'FileNotFoundError {pth_file} not found')\n",
    "        if pth_file is None:\n",
    "            continue\n",
    "        # load data and compute conf matrix\n",
    "        ofile = 'conf_matrs_png/' + os.path.basename(pth_file).replace('.pth', '.png')\n",
    "        ic(args_config)\n",
    "        cfg = Config.fromfile(args_config)\n",
    "        train_options = cfg.train_options\n",
    "        # Get options for variables, amsrenv grid, cropping and upsampling.\n",
    "        train_options = get_variable_options(train_options)\n",
    "        device = 'cpu'\n",
    "        net = get_model(train_options, device)\n",
    "        net = load_model_cpu(net, pth_file)\n",
    "        create_train_validation_and_test_scene_list(train_options)\n",
    "        loss_ce_functions = {chart: get_loss(train_options['chart_loss'][chart]['type'], chart=chart, **train_options['chart_loss'][chart])\n",
    "                                for chart in train_options['charts']}\n",
    "        sir_name = train_options['charts'][0]\n",
    "        dataset_val = AI4ArcticChallengeTestDataset(options=train_options, files=train_options['validate_list'][::5], mode='train')\n",
    "        dataloader_val = torch.utils.data.DataLoader(\n",
    "            dataset_val, batch_size=None, num_workers=train_options['num_workers_val'], shuffle=False)\n",
    "        # - Stores the output and the reference pixels to calculate the scores after inference on all the scenes.\n",
    "        outputs_flat = {chart: torch.Tensor().to(device) for chart in train_options['charts']}\n",
    "        inf_ys_flat = {chart: torch.Tensor().to(device) for chart in train_options['charts']}\n",
    "        for i, (inf_x, inf_y, cfv_masks, tfv_mask, name, original_size) in enumerate(tqdm(iterable=dataloader_val,\n",
    "                                                                            total=len(train_options['validate_list']),\n",
    "                                                                            colour='green')):\n",
    "            with torch.no_grad():\n",
    "                inf_x = inf_x.to(device, non_blocking=True)\n",
    "                output = net(inf_x)\n",
    "            for chart in train_options['charts']:\n",
    "                output[chart] = class_decider(output[chart], train_options, chart)\n",
    "                outputs_flat[chart] = torch.cat((outputs_flat[chart], output[chart][~cfv_masks[chart]]))\n",
    "                #outputs_tfv_mask[chart] = torch.cat((outputs_tfv_mask[chart], output[chart][~tfv_mask]))\n",
    "                inf_ys_flat[chart] = torch.cat((inf_ys_flat[chart], inf_y[chart][~cfv_masks[chart]].to(device, non_blocking=True)))\n",
    "        cm = confusion_matrix(inf_ys_flat[sir_name], outputs_flat[sir_name])\n",
    "\n",
    "        plt.figure(figsize=(3, 3))\n",
    "        plt.imshow(cm, interpolation='nearest', cmap='Blues')\n",
    "        plt.colorbar(shrink=0.5)\n",
    "        plt.xlabel('Predicted')\n",
    "        plt.ylabel('True')\n",
    "        plt.tight_layout()\n",
    "        plt.savefig(ofile, pad_inches=0.1)\n",
    "        plt.close()\n"
   ]
  }
 ],
 "metadata": {
  "kernelspec": {
   "display_name": "mm_seaice",
   "language": "python",
   "name": "python3"
  },
  "language_info": {
   "codemirror_mode": {
    "name": "ipython",
    "version": 3
   },
   "file_extension": ".py",
   "mimetype": "text/x-python",
   "name": "python",
   "nbconvert_exporter": "python",
   "pygments_lexer": "ipython3",
   "version": "3.12.5"
  }
 },
 "nbformat": 4,
 "nbformat_minor": 2
}
